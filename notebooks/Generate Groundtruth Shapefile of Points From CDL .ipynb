{
 "cells": [
  {
   "cell_type": "markdown",
   "metadata": {},
   "source": [
    "# Collect training data using CDL \n",
    "\n",
    "* This is a simple jupyter notebook to collect random training data using CDL imagery. \n",
    "\n",
    "* Manual data collection is tedious, so we generate a training dataset by randomly picking labels from CDL"
   ]
  },
  {
   "cell_type": "code",
   "execution_count": 3,
   "metadata": {},
   "outputs": [],
   "source": [
    "import rasterio as rio\n",
    "import geop#### How to read geotiff files?andas as gpd\n",
    "import numpy as np\n",
    "import pandas as pd\n",
    "np.random.seed(100)"
   ]
  },
  {
   "cell_type": "markdown",
   "metadata": {},
   "source": [
    "### Check the counts of number of pixels for each class in original CDL file\n",
    "* This code uses a clipped raster containing class labels defined by CDL for a region around Asheville\n",
    "* The raster has been projected to EPSG:4326 \n",
    "* We are using rasterio to read geotiff files.\n",
    "* Read CDL (Crop Land Data Layer) documentation to identify what each class number means (for eg. class 111 = water)"
   ]
  },
  {
   "cell_type": "code",
   "execution_count": 5,
   "metadata": {},
   "outputs": [
    {
     "name": "stdout",
     "output_type": "stream",
     "text": [
      "Class: 0, # Vals = 5825\n",
      "Class: 1, # Vals = 9588\n",
      "Class: 5, # Vals = 675\n",
      "Class: 26, # Vals = 4\n",
      "Class: 36, # Vals = 97\n",
      "Class: 37, # Vals = 58790\n",
      "Class: 42, # Vals = 2\n",
      "Class: 44, # Vals = 4\n",
      "Class: 54, # Vals = 1677\n",
      "Class: 59, # Vals = 829\n",
      "Class: 61, # Vals = 3391\n",
      "Class: 68, # Vals = 2275\n",
      "Class: 70, # Vals = 11\n",
      "Class: 111, # Vals = 7264\n",
      "Class: 121, # Vals = 236274\n",
      "Class: 122, # Vals = 55497\n",
      "Class: 123, # Vals = 21846\n",
      "Class: 124, # Vals = 7391\n",
      "Class: 131, # Vals = 440\n",
      "Class: 141, # Vals = 1175510\n",
      "Class: 142, # Vals = 42322\n",
      "Class: 143, # Vals = 1671\n",
      "Class: 152, # Vals = 2500\n",
      "Class: 176, # Vals = 124308\n",
      "Class: 190, # Vals = 4\n",
      "Class: 195, # Vals = 1\n",
      "Class: 225, # Vals = 459\n",
      "Class: 245, # Vals = 14\n",
      "Class: 248, # Vals = 3\n"
     ]
    }
   ],
   "source": [
    "# connect to the file\n",
    "data_src = rio.open('./CDL_2017.tif')\n",
    "# remove any additional dimensions\n",
    "# data_src.read(i) reads band number i\n",
    "# CDL has only one band\n",
    "data = data_src.read(1)\n",
    "all_labels = np.unique(data)\n",
    "for l in all_labels:\n",
    "    print(f'Class: {l}, # Vals = {np.sum(data==l)}')"
   ]
  },
  {
   "cell_type": "markdown",
   "metadata": {},
   "source": [
    "### Data sampling\n",
    "For this exercise, let us assume we are considering 5 classes. CDL classes are much more descriptive, we are generalizing them for this exercise,\n",
    "\n",
    "#### Class information:\n",
    "* Class 0 - forest (includes data from cdl classes: 'forest', 'deciduous forest', 'evergreen forest', 'mixed forest')\n",
    "* Class 1 - corn (includes data from cdl class 'corn')\n",
    "* Class 2 - soy (includes data from cdl class 'soybeans')\n",
    "* Class 3 - developed/urban (includes data from cdl classes 'developed/open space', 'developed/low intensity', 'developed/med intensity', 'developed/high intensity')\n",
    "* Class 4 - water (includes data from cdl class 'open water')\n",
    "\n",
    "### Where is the data picked from in the raster?\n",
    "To avoid challenges associated with edges of a raster, we do not consider any data that occurs at the corners.\n",
    "\n",
    "### How much data is picked?\n",
    "A maximum of 500 points are picked per class. Please note that some classes may have less than 500 points (either because there aren't that many data points, or these points are at the borders and we ignored them)\n",
    "\n"
   ]
  },
  {
   "cell_type": "code",
   "execution_count": 6,
   "metadata": {},
   "outputs": [],
   "source": [
    "n_points = 500\n",
    "labels = ['forest', 'corn', 'soy', 'developed', 'water']\n",
    "supersets = {0: [63, 141, 142, 143],\n",
    "           1: [1],\n",
    "            2: [5],\n",
    "            3: [121, 122, 123, 124],\n",
    "            4: [111]}\n",
    "locs_dict = {}\n",
    "for key in list(supersets.keys()):\n",
    "    sub_labels = supersets[key]\n",
    "    key_counts = 0\n",
    "    sub_dict = {}\n",
    "    sub_locs = None\n",
    "    for idx, s_l in enumerate(sub_labels):\n",
    "        sub_mask = data == s_l\n",
    "        # set first 30 rows, cols and last 30 rows, cols to false so that it doesn't pick from corners\n",
    "        sub_mask[0:30, :] = False\n",
    "        sub_mask[-30:, :] = False\n",
    "        sub_mask[:, 0:30] = False\n",
    "        sub_mask[:, -30:] = False\n",
    "        sub_mask_ind = np.argwhere(sub_mask)\n",
    "        \n",
    "        sub_mask_sub = sub_mask_ind[np.random.choice(sub_mask_ind.shape[0], min(sub_mask_ind.shape[0], int(n_points/len(sub_labels))), replace=False), :]\n",
    "        key_counts += np.sum(data==s_l)\n",
    "        if sub_locs is None:\n",
    "            sub_locs = np.copy(sub_mask_sub)\n",
    "        else:\n",
    "            sub_locs = np.vstack((sub_locs, sub_mask_sub))\n",
    "    locs_dict[key] = sub_locs\n",
    "    \n",
    "        \n",
    "    #print(f'Actual counts = {key_counts}, counts using mask = {np.sum(label_mask)}, locs dict count = {locs_dict[key].shape}')    \n",
    "        "
   ]
  },
  {
   "cell_type": "markdown",
   "metadata": {},
   "source": [
    "### Generate a data frame with the lat-longs and class information "
   ]
  },
  {
   "cell_type": "code",
   "execution_count": 7,
   "metadata": {},
   "outputs": [
    {
     "name": "stdout",
     "output_type": "stream",
     "text": [
      "Class 0 has 375 rows\n",
      "Class 1 has 500 rows\n",
      "Class 2 has 500 rows\n",
      "Class 3 has 500 rows\n",
      "Class 4 has 500 rows\n"
     ]
    }
   ],
   "source": [
    "landsat_src = rio.open('./L8_2017.tif')\n",
    "pandas_df = pd.DataFrame()\n",
    "for key in list(locs_dict.keys()):\n",
    "    # first get lat long for all values in the numpy array\n",
    "    lat_long_list = []\n",
    "    curr_indices = locs_dict[key]\n",
    "    print(f'Class {key} has {curr_indices.shape[0]} rows')\n",
    "    for i in range(curr_indices.shape[0]):\n",
    "        cdl_x, cdl_y = curr_indices[i,0], curr_indices[i, 1]\n",
    "        cdl_long, cdl_lat = data_src.xy(cdl_x, cdl_y)\n",
    "        new_df = pd.DataFrame({'Latitude': [cdl_lat], 'Longitude': [cdl_long], 'Class':key})\n",
    "        pandas_df = pandas_df.append(new_df, ignore_index=True)\n",
    "        "
   ]
  },
  {
   "cell_type": "markdown",
   "metadata": {},
   "source": [
    "### Finally, convert the data frame to a shape file \n",
    "* We use geopandas to first convert the pandas data frame to a geodataframe with a point representing each location picked \n",
    "* We then save this geopandas file to disk"
   ]
  },
  {
   "cell_type": "code",
   "execution_count": 8,
   "metadata": {},
   "outputs": [],
   "source": [
    "geopandas_df = gpd.GeoDataFrame(\n",
    "    pandas_df, geometry=gpd.points_from_xy(pandas_df.Longitude, pandas_df.Latitude))"
   ]
  },
  {
   "cell_type": "code",
   "execution_count": 9,
   "metadata": {},
   "outputs": [],
   "source": [
    "geopandas_df.crs = {'init' :'epsg:4326'}"
   ]
  },
  {
   "cell_type": "code",
   "execution_count": 10,
   "metadata": {},
   "outputs": [
    {
     "data": {
      "text/html": [
       "<div>\n",
       "<style scoped>\n",
       "    .dataframe tbody tr th:only-of-type {\n",
       "        vertical-align: middle;\n",
       "    }\n",
       "\n",
       "    .dataframe tbody tr th {\n",
       "        vertical-align: top;\n",
       "    }\n",
       "\n",
       "    .dataframe thead th {\n",
       "        text-align: right;\n",
       "    }\n",
       "</style>\n",
       "<table border=\"1\" class=\"dataframe\">\n",
       "  <thead>\n",
       "    <tr style=\"text-align: right;\">\n",
       "      <th></th>\n",
       "      <th>Latitude</th>\n",
       "      <th>Longitude</th>\n",
       "      <th>Class</th>\n",
       "      <th>geometry</th>\n",
       "    </tr>\n",
       "  </thead>\n",
       "  <tbody>\n",
       "    <tr>\n",
       "      <th>0</th>\n",
       "      <td>35.514769</td>\n",
       "      <td>-82.680451</td>\n",
       "      <td>0</td>\n",
       "      <td>POINT (-82.68045 35.51477)</td>\n",
       "    </tr>\n",
       "    <tr>\n",
       "      <th>1</th>\n",
       "      <td>35.753979</td>\n",
       "      <td>-82.520432</td>\n",
       "      <td>0</td>\n",
       "      <td>POINT (-82.52043 35.75398)</td>\n",
       "    </tr>\n",
       "    <tr>\n",
       "      <th>2</th>\n",
       "      <td>35.710635</td>\n",
       "      <td>-82.305661</td>\n",
       "      <td>0</td>\n",
       "      <td>POINT (-82.30566 35.71063)</td>\n",
       "    </tr>\n",
       "    <tr>\n",
       "      <th>3</th>\n",
       "      <td>35.512814</td>\n",
       "      <td>-82.413861</td>\n",
       "      <td>0</td>\n",
       "      <td>POINT (-82.41386 35.51281)</td>\n",
       "    </tr>\n",
       "    <tr>\n",
       "      <th>4</th>\n",
       "      <td>35.520636</td>\n",
       "      <td>-82.853181</td>\n",
       "      <td>0</td>\n",
       "      <td>POINT (-82.85318 35.52064)</td>\n",
       "    </tr>\n",
       "    <tr>\n",
       "      <th>...</th>\n",
       "      <td>...</td>\n",
       "      <td>...</td>\n",
       "      <td>...</td>\n",
       "      <td>...</td>\n",
       "    </tr>\n",
       "    <tr>\n",
       "      <th>2370</th>\n",
       "      <td>35.664357</td>\n",
       "      <td>-82.338903</td>\n",
       "      <td>4</td>\n",
       "      <td>POINT (-82.33890 35.66436)</td>\n",
       "    </tr>\n",
       "    <tr>\n",
       "      <th>2371</th>\n",
       "      <td>35.479572</td>\n",
       "      <td>-82.536076</td>\n",
       "      <td>4</td>\n",
       "      <td>POINT (-82.53608 35.47957)</td>\n",
       "    </tr>\n",
       "    <tr>\n",
       "      <th>2372</th>\n",
       "      <td>35.481528</td>\n",
       "      <td>-82.534446</td>\n",
       "      <td>4</td>\n",
       "      <td>POINT (-82.53445 35.48153)</td>\n",
       "    </tr>\n",
       "    <tr>\n",
       "      <th>2373</th>\n",
       "      <td>35.663379</td>\n",
       "      <td>-82.338903</td>\n",
       "      <td>4</td>\n",
       "      <td>POINT (-82.33890 35.66338)</td>\n",
       "    </tr>\n",
       "    <tr>\n",
       "      <th>2374</th>\n",
       "      <td>35.491631</td>\n",
       "      <td>-82.585613</td>\n",
       "      <td>4</td>\n",
       "      <td>POINT (-82.58561 35.49163)</td>\n",
       "    </tr>\n",
       "  </tbody>\n",
       "</table>\n",
       "<p>2375 rows × 4 columns</p>\n",
       "</div>"
      ],
      "text/plain": [
       "       Latitude  Longitude  Class                    geometry\n",
       "0     35.514769 -82.680451      0  POINT (-82.68045 35.51477)\n",
       "1     35.753979 -82.520432      0  POINT (-82.52043 35.75398)\n",
       "2     35.710635 -82.305661      0  POINT (-82.30566 35.71063)\n",
       "3     35.512814 -82.413861      0  POINT (-82.41386 35.51281)\n",
       "4     35.520636 -82.853181      0  POINT (-82.85318 35.52064)\n",
       "...         ...        ...    ...                         ...\n",
       "2370  35.664357 -82.338903      4  POINT (-82.33890 35.66436)\n",
       "2371  35.479572 -82.536076      4  POINT (-82.53608 35.47957)\n",
       "2372  35.481528 -82.534446      4  POINT (-82.53445 35.48153)\n",
       "2373  35.663379 -82.338903      4  POINT (-82.33890 35.66338)\n",
       "2374  35.491631 -82.585613      4  POINT (-82.58561 35.49163)\n",
       "\n",
       "[2375 rows x 4 columns]"
      ]
     },
     "execution_count": 10,
     "metadata": {},
     "output_type": "execute_result"
    }
   ],
   "source": [
    "geopandas_df"
   ]
  },
  {
   "cell_type": "code",
   "execution_count": 11,
   "metadata": {},
   "outputs": [],
   "source": [
    "geopandas_df.to_file('./GroundTruth.shp')"
   ]
  }
 ],
 "metadata": {
  "kernelspec": {
   "display_name": "Python 3",
   "language": "python",
   "name": "python3"
  },
  "language_info": {
   "codemirror_mode": {
    "name": "ipython",
    "version": 3
   },
   "file_extension": ".py",
   "mimetype": "text/x-python",
   "name": "python",
   "nbconvert_exporter": "python",
   "pygments_lexer": "ipython3",
   "version": "3.7.6"
  }
 },
 "nbformat": 4,
 "nbformat_minor": 2
}
